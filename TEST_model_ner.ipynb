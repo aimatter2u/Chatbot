{
 "cells": [
  {
   "cell_type": "code",
   "execution_count": 3,
   "metadata": {},
   "outputs": [
    {
     "name": "stdout",
     "output_type": "stream",
     "text": [
      "WARNING:tensorflow:AutoGraph could not transform <function Model.make_predict_function.<locals>.predict_function at 0x000002291FDEFB88> and will run it as-is.\n",
      "Please report this to the TensorFlow team. When filing the bug, set the verbosity to 10 (on Linux, `export AUTOGRAPH_VERBOSITY=10`) and attach the full output.\n",
      "Cause: 'arguments' object has no attribute 'posonlyargs'\n",
      "To silence this warning, decorate the function with @tf.autograph.experimental.do_not_convert\n",
      "WARNING: AutoGraph could not transform <function Model.make_predict_function.<locals>.predict_function at 0x000002291FDEFB88> and will run it as-is.\n",
      "Please report this to the TensorFlow team. When filing the bug, set the verbosity to 10 (on Linux, `export AUTOGRAPH_VERBOSITY=10`) and attach the full output.\n",
      "Cause: 'arguments' object has no attribute 'posonlyargs'\n",
      "To silence this warning, decorate the function with @tf.autograph.experimental.do_not_convert\n",
      "1/1 [==============================] - 1s 1s/step\n",
      "1/1 [==============================] - 0s 34ms/step\n",
      "[('오늘', 'B_DT'), ('오전', 'O'), ('13', 'B_DT'), ('시', 'I'), ('2', 'B_DT'), ('분', 'I'), ('탕수육', 'B_FOOD'), ('주문', 'O'), ('하', 'O'), ('싶', 'O')]\n",
      "['B_DT', 'B_DT', 'I', 'B_DT', 'I', 'B_FOOD']\n"
     ]
    }
   ],
   "source": [
    "from utils.Preprocess import Preprocess\n",
    "from models.ner.NerModel import NerModel\n",
    "\n",
    "p = Preprocess(word2index_dic='./train_tools/dict/chatbot_dict.bin',\n",
    "               userdic='.utils/user_dic.tsv')\n",
    "\n",
    "ner = NerModel(model_name='./models/ner/ner_model.h5', proprocess=p)\n",
    "query = '오늘 오전 13시 2분에 탕수육 주문 하고 싶어요'\n",
    "predicts = ner.predict(query)\n",
    "tags = ner.predict_tags(query)\n",
    "print(predicts)\n",
    "print(tags)\n",
    "\n"
   ]
  }
 ],
 "metadata": {
  "kernelspec": {
   "display_name": "Python 3.7.13 ('py37')",
   "language": "python",
   "name": "python3"
  },
  "language_info": {
   "codemirror_mode": {
    "name": "ipython",
    "version": 3
   },
   "file_extension": ".py",
   "mimetype": "text/x-python",
   "name": "python",
   "nbconvert_exporter": "python",
   "pygments_lexer": "ipython3",
   "version": "3.7.13"
  },
  "orig_nbformat": 4,
  "vscode": {
   "interpreter": {
    "hash": "d5e379a7e28a7a46aa8429e33644d01fb2f452cf28b8163a5182971af83070e2"
   }
  }
 },
 "nbformat": 4,
 "nbformat_minor": 2
}
