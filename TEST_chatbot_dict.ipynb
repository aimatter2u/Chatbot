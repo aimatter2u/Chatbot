{
 "cells": [
  {
   "cell_type": "code",
   "execution_count": 1,
   "metadata": {},
   "outputs": [
    {
     "name": "stdout",
     "output_type": "stream",
     "text": [
      "내일 12\n",
      "오전 214\n",
      "10시 81\n",
      "탕수육 404\n",
      "주문 3\n",
      "싶어ㅎㅎ 1\n"
     ]
    }
   ],
   "source": [
    "import pickle\n",
    "from utils.Preprocess import Preprocess\n",
    "\n",
    "f = open(\"./train_tools/dict/chatbot_dict.bin\", \"rb\")\n",
    "word_index = pickle.load(f)\n",
    "f.close()\n",
    "\n",
    "sent = \"내일 오전 10시에 탕수육 주문하고 싶어ㅎㅎ\"\n",
    "\n",
    "p = Preprocess(userdic='./utils/user_dic.tsv')\n",
    "\n",
    "pos = p.pos(sent)\n",
    "\n",
    "keywords = p.get_keywords(pos, without_tag=True)\n",
    "for word in keywords:\n",
    "    try:\n",
    "        print(word, word_index[word])\n",
    "    except KeyError:\n",
    "        print(word, word_index['OOV'])\n"
   ]
  }
 ],
 "metadata": {
  "interpreter": {
   "hash": "66b0d3dda581b4025f2881c45b7387e9a50a56231cc604bd186c7d81adb38e5c"
  },
  "kernelspec": {
   "display_name": "Python 3.7.13 ('py3713')",
   "language": "python",
   "name": "python3"
  },
  "language_info": {
   "codemirror_mode": {
    "name": "ipython",
    "version": 3
   },
   "file_extension": ".py",
   "mimetype": "text/x-python",
   "name": "python",
   "nbconvert_exporter": "python",
   "pygments_lexer": "ipython3",
   "version": "3.7.13"
  },
  "orig_nbformat": 4
 },
 "nbformat": 4,
 "nbformat_minor": 2
}
