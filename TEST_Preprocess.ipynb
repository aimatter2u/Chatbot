{
 "cells": [
  {
   "cell_type": "code",
   "execution_count": 1,
   "metadata": {},
   "outputs": [
    {
     "name": "stdout",
     "output_type": "stream",
     "text": [
      "['내일', '오후', '10시', '탕수육', '주문', '싶']\n",
      "[('내일', 'NNG'), ('오후', 'NNG'), ('10시', 'NNG'), ('탕수육', 'NNG'), ('주문', 'NNG'), ('싶', 'VX')]\n"
     ]
    }
   ],
   "source": [
    "from utils.Preprocess import Preprocess\n",
    "\n",
    "sent = \"내일 오후 10시에 탕수육 주문하고 싶어\"\n",
    "\n",
    "p = Preprocess(word2index_dic='./train_tools/dict/chatbot_dict.bin',\n",
    "            userdic='./utils/user_dic.tsv')\n",
    "\n",
    "pos = p.pos(sent)\n",
    "\n",
    "keywords = p.get_keywords(pos, without_tag=True)\n",
    "print(keywords)\n",
    "\n",
    "keywords = p.get_keywords(pos, without_tag=False)\n",
    "print(keywords)"
   ]
  }
 ],
 "metadata": {
  "interpreter": {
   "hash": "66b0d3dda581b4025f2881c45b7387e9a50a56231cc604bd186c7d81adb38e5c"
  },
  "kernelspec": {
   "display_name": "Python 3.7.13 ('py3713')",
   "language": "python",
   "name": "python3"
  },
  "language_info": {
   "codemirror_mode": {
    "name": "ipython",
    "version": 3
   },
   "file_extension": ".py",
   "mimetype": "text/x-python",
   "name": "python",
   "nbconvert_exporter": "python",
   "pygments_lexer": "ipython3",
   "version": "3.7.13"
  },
  "orig_nbformat": 4
 },
 "nbformat": 4,
 "nbformat_minor": 2
}
