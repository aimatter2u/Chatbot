{
 "cells": [
  {
   "cell_type": "code",
   "execution_count": 3,
   "metadata": {},
   "outputs": [
    {
     "name": "stdout",
     "output_type": "stream",
     "text": [
      "1/1 [==============================] - 0s 120ms/step\n",
      "오늘 탕수육 주문 가능한가요?\n",
      "의도 예측 점수 :  [[0.0000000e+00 7.5953390e-37 1.0000000e+00 2.8050409e-22 4.4699674e-34]]\n",
      "의도 예측 클래스 :  [2]\n",
      "의도  :  주문\n"
     ]
    }
   ],
   "source": [
    "import tensorflow as tf\n",
    "from tensorflow.keras.models import Model, load_model\n",
    "from tensorflow.keras import preprocessing\n",
    "\n",
    "intent_labels = {0: \"인사\", 1: \"욕설\", 2: \"주문\", 3: \"예약\", 4: \"기타\"}\n",
    "\n",
    "# 의도 분류 모델 불러오기\n",
    "model = load_model('./models/intent/intent_model.h5')\n",
    "\n",
    "query = \"오늘 탕수육 주문 가능한가요?\"\n",
    "# query = \"안녕하세요?\"\n",
    "from utils.Preprocess import Preprocess\n",
    "p = Preprocess(word2index_dic='./train_tools/dict/chatbot_dict.bin',\n",
    "               userdic='./utils/user_dic.tsv')\n",
    "pos = p.pos(query)\n",
    "keywords = p.get_keywords(pos, without_tag=True)\n",
    "seq = p.get_wordidx_sequence(keywords)\n",
    "sequences = [seq]\n",
    "\n",
    "# 단어 시퀀스 벡터 크기\n",
    "from config.GlobalParams import MAX_SEQ_LEN\n",
    "padded_seqs = preprocessing.sequence.pad_sequences(sequences, maxlen=MAX_SEQ_LEN, padding='post')\n",
    "\n",
    "predict = model.predict(padded_seqs)\n",
    "predict_class = tf.math.argmax(predict, axis=1)\n",
    "print(query)\n",
    "print(\"의도 예측 점수 : \", predict)\n",
    "print(\"의도 예측 클래스 : \", predict_class.numpy())\n",
    "print(\"의도  : \", intent_labels[predict_class.numpy()[0]])\n",
    "\n"
   ]
  }
 ],
 "metadata": {
  "interpreter": {
   "hash": "d5e379a7e28a7a46aa8429e33644d01fb2f452cf28b8163a5182971af83070e2"
  },
  "kernelspec": {
   "display_name": "Python 3.7.13 ('py37')",
   "language": "python",
   "name": "python3"
  },
  "language_info": {
   "codemirror_mode": {
    "name": "ipython",
    "version": 3
   },
   "file_extension": ".py",
   "mimetype": "text/x-python",
   "name": "python",
   "nbconvert_exporter": "python",
   "pygments_lexer": "ipython3",
   "version": "3.7.13"
  },
  "orig_nbformat": 4
 },
 "nbformat": 4,
 "nbformat_minor": 2
}
