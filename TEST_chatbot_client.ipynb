{
 "cells": [
  {
   "cell_type": "code",
   "execution_count": 1,
   "metadata": {},
   "outputs": [
    {
     "name": "stdout",
     "output_type": "stream",
     "text": [
      "질문 : \n",
      "----------------------------------------\n",
      "햄버거 주문\n",
      "답변 : \n",
      "B_FOOD 주문 처리 감사!!\n",
      "{'Query': '햄버거 주문', 'Answer': 'B_FOOD 주문 처리 감사!!', 'AnswerImageUrl': None, 'Intent': '주문', 'NER': \"[('햄버거', 'O'), ('주문', 'O')]\"}\n",
      "<class 'dict'>\n",
      "\n",
      "\n",
      "질문 : \n",
      "----------------------------------------\n",
      "안녕하세요\n",
      "답변 : \n",
      "네 안녕하세요 :D\n",
      "반갑습니다. 저는 챗봇입니다.\n",
      "{'Query': '안녕하세요', 'Answer': '네 안녕하세요 :D\\n반갑습니다. 저는 챗봇입니다.', 'AnswerImageUrl': 'https://i.imgur.com/UluUFMp.jpg', 'Intent': '인사', 'NER': \"[('안녕하세요', 'O')]\"}\n",
      "<class 'dict'>\n",
      "\n",
      "\n",
      "질문 : \n"
     ]
    }
   ],
   "source": [
    "import socket\n",
    "import json\n",
    "\n",
    "# 챗봇 엔진 서버 접속 정보\n",
    "host = \"127.0.0.1\"  # 챗봇 엔진 서버 IP 주소\n",
    "port = 5050  # 챗봇 엔진 서버 통신 포트\n",
    "\n",
    "# 클라이언트 프로그램 시작\n",
    "while True:\n",
    "    print(\"질문 : \")\n",
    "    query = input()  # 질문 입력\n",
    "    if(query == \"exit\"):\n",
    "        exit(0)\n",
    "    print(\"-\" * 40)\n",
    "\n",
    "\n",
    "    # 챗봇 엔진 서버 연결\n",
    "    mySocket = socket.socket()\n",
    "    mySocket.connect((host, port))\n",
    "\n",
    "    # 챗봇 엔진 질의 요청\n",
    "    json_data = {\n",
    "        'Query': query,\n",
    "        'BotType': \"MyService\"\n",
    "    }\n",
    "    message = json.dumps(json_data)\n",
    "    mySocket.send(message.encode())\n",
    "\n",
    "    # 챗봇 엔진 답변 출력\n",
    "    data = mySocket.recv(2048).decode()\n",
    "    ret_data = json.loads(data)\n",
    "    print(query)\n",
    "    print(\"답변 : \")\n",
    "    print(ret_data['Answer'])\n",
    "    print(ret_data)\n",
    "    print(type(ret_data))\n",
    "    print(\"\\n\")\n",
    "\n",
    "    # 챗봇 엔진 서버 연결 소켓 닫기\n",
    "    mySocket.close()\n",
    "\n"
   ]
  }
 ],
 "metadata": {
  "interpreter": {
   "hash": "d5e379a7e28a7a46aa8429e33644d01fb2f452cf28b8163a5182971af83070e2"
  },
  "kernelspec": {
   "display_name": "Python 3.7.13 ('py37')",
   "language": "python",
   "name": "python3"
  },
  "language_info": {
   "codemirror_mode": {
    "name": "ipython",
    "version": 3
   },
   "file_extension": ".py",
   "mimetype": "text/x-python",
   "name": "python",
   "nbconvert_exporter": "python",
   "pygments_lexer": "ipython3",
   "version": "3.7.13"
  },
  "orig_nbformat": 4
 },
 "nbformat": 4,
 "nbformat_minor": 2
}
